{
 "cells": [
  {
   "cell_type": "markdown",
   "id": "061ecc61",
   "metadata": {},
   "source": [
    "# 🧠 Gym Progress Analysis – User: Kuba\n",
    "\n",
    "---\n",
    "\n",
    "## 📋 Overview\n",
    "\n",
    "This notebook presents an exploratory data analysis (EDA) of gym training data for a single user: **Kuba**.  \n",
    "The goal is to understand his training patterns, volume progression, performance changes over time, and relationships between training variables (e.g. sleep, mood, stress).\n",
    "\n",
    "We will use data loaded from an SQLite database that contains structured records of:\n",
    "\n",
    "- Training sessions (date, bodyweight, mood, measurements, etc.)\n",
    "- Exercises (name, muscle group, weight, reps)\n",
    "- Additional context (program phase, duration, stress level)\n",
    "\n",
    "---\n",
    "\n",
    "## 🎯 Objectives\n",
    "\n",
    "- Visualize training frequency and exercise history\n",
    "- Track progression of specific lifts (e.g. Bench Press, Deadlift)\n",
    "- Analyze weekly training volume per muscle group\n",
    "- Examine correlations between training variables\n",
    "- Prepare data for future modeling (e.g. predicting strength or body changes)\n",
    "\n",
    "---\n"
   ]
  },
  {
   "cell_type": "code",
   "execution_count": null,
   "id": "aa8d9dfa",
   "metadata": {},
   "outputs": [],
   "source": [
    "# ─── Cell 1: make sure Python can see the project root ────────────────────────\n",
    "import sys, os\n",
    "project_root = os.path.abspath(os.path.join(os.getcwd(), \"..\"))\n",
    "if project_root not in sys.path:\n",
    "    sys.path.insert(0, project_root)\n",
    "\n",
    "# ─── Cell 2: run your main.py to init the DB and load data ───────────────────\n",
    "# note: you only need to do this once (then comment it out)\n",
    "get_ipython().run_line_magic('run', '../main.py --init --load sample_data.json')\n"
   ]
  },
  {
   "cell_type": "code",
   "execution_count": null,
   "id": "e67362c1",
   "metadata": {},
   "outputs": [],
   "source": [
    "from analysis.dataframe_builder import build_user_dataframe\n",
    "df = build_user_dataframe(user_id=1)\n",
    "df.head()\n"
   ]
  }
 ],
 "metadata": {
  "kernelspec": {
   "display_name": "Python (.venv mlfs)",
   "language": "python",
   "name": "mlfs_venv"
  },
  "language_info": {
   "codemirror_mode": {
    "name": "ipython",
    "version": 3
   },
   "file_extension": ".py",
   "mimetype": "text/x-python",
   "name": "python",
   "nbconvert_exporter": "python",
   "pygments_lexer": "ipython3",
   "version": "3.13.1"
  }
 },
 "nbformat": 4,
 "nbformat_minor": 5
}
