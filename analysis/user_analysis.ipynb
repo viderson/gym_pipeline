{
 "cells": [
  {
   "cell_type": "markdown",
   "id": "061ecc61",
   "metadata": {},
   "source": [
    "# 🧠 Gym Progress Analysis – User: Kuba\n",
    "\n",
    "---\n",
    "\n",
    "## 📋 Overview\n",
    "\n",
    "This notebook presents an exploratory data analysis (EDA) of gym training data for a single user: **Kuba**.  \n",
    "The goal is to understand his training patterns, volume progression, performance changes over time, and relationships between training variables (e.g. sleep, mood, stress).\n",
    "\n",
    "We will use data loaded from an SQLite database that contains structured records of:\n",
    "\n",
    "- Training sessions (date, bodyweight, mood, measurements, etc.)\n",
    "- Exercises (name, muscle group, weight, reps)\n",
    "- Additional context (program phase, duration, stress level)\n",
    "\n",
    "---\n",
    "\n",
    "## 🎯 Objectives\n",
    "\n",
    "- Visualize training frequency and exercise history\n",
    "- Track progression of specific lifts (e.g. Bench Press, Deadlift)\n",
    "- Analyze weekly training volume per muscle group\n",
    "- Examine correlations between training variables\n",
    "- Prepare data for future modeling (e.g. predicting strength or body changes)\n",
    "\n",
    "---\n"
   ]
  },
  {
   "cell_type": "code",
   "execution_count": 1,
   "id": "252bb43b",
   "metadata": {},
   "outputs": [
    {
     "ename": "ModuleNotFoundError",
     "evalue": "No module named 'dotenv'",
     "output_type": "error",
     "traceback": [
      "\u001b[31m---------------------------------------------------------------------------\u001b[39m",
      "\u001b[31mModuleNotFoundError\u001b[39m                       Traceback (most recent call last)",
      "\u001b[36mCell\u001b[39m\u001b[36m \u001b[39m\u001b[32mIn[1]\u001b[39m\u001b[32m, line 2\u001b[39m\n\u001b[32m      1\u001b[39m \u001b[38;5;66;03m# 1️⃣ Wczytaj zmienne środowiskowe (.env)\u001b[39;00m\n\u001b[32m----> \u001b[39m\u001b[32m2\u001b[39m \u001b[38;5;28;01mfrom\u001b[39;00m\u001b[38;5;250m \u001b[39m\u001b[34;01mdotenv\u001b[39;00m\u001b[38;5;250m \u001b[39m\u001b[38;5;28;01mimport\u001b[39;00m load_dotenv\n\u001b[32m      3\u001b[39m load_dotenv()  \n\u001b[32m      5\u001b[39m \u001b[38;5;66;03m# 2️⃣ Import zapytań – teraz database.queries jest dostępne\u001b[39;00m\n",
      "\u001b[31mModuleNotFoundError\u001b[39m: No module named 'dotenv'"
     ]
    }
   ],
   "source": [
    "# 1️⃣ Wczytaj zmienne środowiskowe (.env)\n",
    "from dotenv import load_dotenv\n",
    "load_dotenv()  \n",
    "\n",
    "# 2️⃣ Import zapytań – teraz database.queries jest dostępne\n",
    "from database.queries import get_all_users, get_training_data_for_user\n",
    "\n",
    "# 3️⃣ Uruchomienie zapytań\n",
    "users = get_all_users()\n",
    "print(\"Users:\", users)\n",
    "\n",
    "rows = get_training_data_for_user(1)\n",
    "print(f\"Records for user 1 ({len(rows)} rows):\")\n",
    "for r in rows[:5]:\n",
    "    print(r)\n"
   ]
  },
  {
   "cell_type": "code",
   "execution_count": null,
   "id": "985750f9",
   "metadata": {},
   "outputs": [],
   "source": [
    "import os, sys\n",
    "project_root = os.path.abspath(os.path.join(os.getcwd(), \"..\"))\n",
    "sys.path.insert(0, project_root)\n",
    "\n",
    "from database.queries import get_all_users, get_training_data_for_user\n",
    "\n",
    "users = get_all_users()\n",
    "print(\"Users:\", users)\n",
    "\n",
    "rows = get_training_data_for_user(1)\n",
    "print(f\"Records for user 1 ({len(rows)} rows):\")\n",
    "for r in rows[:5]:\n",
    "    print(r)\n"
   ]
  },
  {
   "cell_type": "code",
   "execution_count": 10,
   "id": "fba400db",
   "metadata": {},
   "outputs": [
    {
     "ename": "OperationalError",
     "evalue": "unable to open database file",
     "output_type": "error",
     "traceback": [
      "\u001b[31m---------------------------------------------------------------------------\u001b[39m",
      "\u001b[31mOperationalError\u001b[39m                          Traceback (most recent call last)",
      "\u001b[36mCell\u001b[39m\u001b[36m \u001b[39m\u001b[32mIn[10]\u001b[39m\u001b[32m, line 3\u001b[39m\n\u001b[32m      1\u001b[39m \u001b[38;5;28;01mfrom\u001b[39;00m\u001b[38;5;250m \u001b[39m\u001b[34;01mdatabase\u001b[39;00m\u001b[34;01m.\u001b[39;00m\u001b[34;01mqueries\u001b[39;00m\u001b[38;5;250m \u001b[39m\u001b[38;5;28;01mimport\u001b[39;00m get_all_users, get_training_data_for_user\n\u001b[32m----> \u001b[39m\u001b[32m3\u001b[39m users = \u001b[43mget_all_users\u001b[49m\u001b[43m(\u001b[49m\u001b[43m)\u001b[49m\n\u001b[32m      4\u001b[39m \u001b[38;5;28mprint\u001b[39m(\u001b[33m\"\u001b[39m\u001b[33mUsers:\u001b[39m\u001b[33m\"\u001b[39m, users)\n\u001b[32m      6\u001b[39m rows = get_training_data_for_user(\u001b[32m1\u001b[39m)\n",
      "\u001b[36mFile \u001b[39m\u001b[32mc:\\Users\\szymwid\\Documents\\book_manager\\database\\queries.py:10\u001b[39m, in \u001b[36mget_all_users\u001b[39m\u001b[34m()\u001b[39m\n\u001b[32m      3\u001b[39m \u001b[38;5;28;01mdef\u001b[39;00m\u001b[38;5;250m \u001b[39m\u001b[34mget_all_users\u001b[39m():\n\u001b[32m      4\u001b[39m \u001b[38;5;250m    \u001b[39m\u001b[33;03m\"\"\"\u001b[39;00m\n\u001b[32m      5\u001b[39m \u001b[33;03m    Returns a list of all users from the 'users' table.\u001b[39;00m\n\u001b[32m      6\u001b[39m \n\u001b[32m      7\u001b[39m \u001b[33;03m    Returns:\u001b[39;00m\n\u001b[32m      8\u001b[39m \u001b[33;03m        List[Tuple[int, str, str]]: [(id, name, email), ...]\u001b[39;00m\n\u001b[32m      9\u001b[39m \u001b[33;03m    \"\"\"\u001b[39;00m\n\u001b[32m---> \u001b[39m\u001b[32m10\u001b[39m     \u001b[38;5;28;01mwith\u001b[39;00m \u001b[43mconnect\u001b[49m\u001b[43m(\u001b[49m\u001b[43m)\u001b[49m \u001b[38;5;28;01mas\u001b[39;00m conn:\n\u001b[32m     11\u001b[39m         cursor = conn.cursor()\n\u001b[32m     12\u001b[39m         \u001b[38;5;28;01mreturn\u001b[39;00m cursor.execute(\u001b[33m\"\u001b[39m\u001b[33mSELECT * FROM users\u001b[39m\u001b[33m\"\u001b[39m).fetchall()\n",
      "\u001b[36mFile \u001b[39m\u001b[32mc:\\Users\\szymwid\\Documents\\book_manager\\database\\__init__.py:7\u001b[39m, in \u001b[36mconnect\u001b[39m\u001b[34m()\u001b[39m\n\u001b[32m      6\u001b[39m \u001b[38;5;28;01mdef\u001b[39;00m\u001b[38;5;250m \u001b[39m\u001b[34mconnect\u001b[39m():\n\u001b[32m----> \u001b[39m\u001b[32m7\u001b[39m     conn = \u001b[43msqlite3\u001b[49m\u001b[43m.\u001b[49m\u001b[43mconnect\u001b[49m\u001b[43m(\u001b[49m\u001b[43mDB_NAME\u001b[49m\u001b[43m)\u001b[49m\n\u001b[32m      8\u001b[39m     conn.execute(\u001b[33m\"\u001b[39m\u001b[33mPRAGMA foreign_keys = ON\u001b[39m\u001b[33m\"\u001b[39m)\n\u001b[32m      9\u001b[39m     \u001b[38;5;28;01mreturn\u001b[39;00m conn\n",
      "\u001b[31mOperationalError\u001b[39m: unable to open database file"
     ]
    }
   ],
   "source": [
    "from database.queries import get_all_users, get_training_data_for_user\n",
    "\n",
    "users = get_all_users()\n",
    "print(\"Users:\", users)\n",
    "\n",
    "rows = get_training_data_for_user(1)\n",
    "print(f\"Records for user 1 ({len(rows)} rows):\")\n",
    "for r in rows[:5]:\n",
    "    print(r)\n"
   ]
  }
 ],
 "metadata": {
  "kernelspec": {
   "display_name": "Python (.venv mlfs)",
   "language": "python",
   "name": "mlfs_venv"
  },
  "language_info": {
   "codemirror_mode": {
    "name": "ipython",
    "version": 3
   },
   "file_extension": ".py",
   "mimetype": "text/x-python",
   "name": "python",
   "nbconvert_exporter": "python",
   "pygments_lexer": "ipython3",
   "version": "3.13.1"
  }
 },
 "nbformat": 4,
 "nbformat_minor": 5
}
