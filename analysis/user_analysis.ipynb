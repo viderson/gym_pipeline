{
 "cells": [
  {
   "cell_type": "markdown",
   "id": "061ecc61",
   "metadata": {},
   "source": [
    "# 🧠 Gym Progress Analysis – User: Kuba\n",
    "\n",
    "---\n",
    "\n",
    "## 📋 Overview\n",
    "\n",
    "This notebook presents an exploratory data analysis (EDA) of gym training data for a single user: **Kuba**.  \n",
    "The goal is to understand his training patterns, volume progression, performance changes over time, and relationships between training variables (e.g. sleep, mood, stress).\n",
    "\n",
    "We will use data loaded from an SQLite database that contains structured records of:\n",
    "\n",
    "- Training sessions (date, bodyweight, mood, measurements, etc.)\n",
    "- Exercises (name, muscle group, weight, reps)\n",
    "- Additional context (program phase, duration, stress level)\n",
    "\n",
    "---\n",
    "\n",
    "## 🎯 Objectives\n",
    "\n",
    "- Visualize training frequency and exercise history\n",
    "- Track progression of specific lifts (e.g. Bench Press, Deadlift)\n",
    "- Analyze weekly training volume per muscle group\n",
    "- Examine correlations between training variables\n",
    "- Prepare data for future modeling (e.g. predicting strength or body changes)\n",
    "\n",
    "---\n"
   ]
  },
  {
   "cell_type": "code",
   "execution_count": 8,
   "id": "8c9c98f3",
   "metadata": {},
   "outputs": [
    {
     "ename": "ModuleNotFoundError",
     "evalue": "No module named 'analysis'",
     "output_type": "error",
     "traceback": [
      "\u001b[31m---------------------------------------------------------------------------\u001b[39m",
      "\u001b[31mModuleNotFoundError\u001b[39m                       Traceback (most recent call last)",
      "\u001b[36mCell\u001b[39m\u001b[36m \u001b[39m\u001b[32mIn[8]\u001b[39m\u001b[32m, line 1\u001b[39m\n\u001b[32m----> \u001b[39m\u001b[32m1\u001b[39m \u001b[38;5;28;01mfrom\u001b[39;00m\u001b[38;5;250m \u001b[39m\u001b[34;01manalysis\u001b[39;00m\u001b[34;01m.\u001b[39;00m\u001b[34;01mdataframe_builder\u001b[39;00m\u001b[38;5;250m \u001b[39m\u001b[38;5;28;01mimport\u001b[39;00m build_user_dataframe\n\u001b[32m      2\u001b[39m df = build_user_dataframe(\u001b[32m1\u001b[39m) \u001b[38;5;66;03m#User id\u001b[39;00m\n\u001b[32m      3\u001b[39m df\n",
      "\u001b[31mModuleNotFoundError\u001b[39m: No module named 'analysis'"
     ]
    }
   ],
   "source": [
    "from analysis.dataframe_builder import build_user_dataframe\n",
    "df = build_user_dataframe(1) #User id\n",
    "df"
   ]
  }
 ],
 "metadata": {
  "kernelspec": {
   "display_name": "Python (.venv mlfs)",
   "language": "python",
   "name": "mlfs_venv"
  },
  "language_info": {
   "codemirror_mode": {
    "name": "ipython",
    "version": 3
   },
   "file_extension": ".py",
   "mimetype": "text/x-python",
   "name": "python",
   "nbconvert_exporter": "python",
   "pygments_lexer": "ipython3",
   "version": "3.13.1"
  }
 },
 "nbformat": 4,
 "nbformat_minor": 5
}
