{
 "cells": [
  {
   "cell_type": "markdown",
   "id": "061ecc61",
   "metadata": {},
   "source": [
    "# 🧠 Gym Progress Analysis – User: Kuba\n",
    "\n",
    "---\n",
    "\n",
    "## 📋 Overview\n",
    "\n",
    "This notebook presents an exploratory data analysis (EDA) of gym training data for a single user: **Kuba**.  \n",
    "The goal is to understand his training patterns, volume progression, performance changes over time, and relationships between training variables (e.g. sleep, mood, stress).\n",
    "\n",
    "We will use data loaded from an SQLite database that contains structured records of:\n",
    "\n",
    "- Training sessions (date, bodyweight, mood, measurements, etc.)\n",
    "- Exercises (name, muscle group, weight, reps)\n",
    "- Additional context (program phase, duration, stress level)\n",
    "\n",
    "---\n",
    "\n",
    "## 🎯 Objectives\n",
    "\n",
    "- Visualize training frequency and exercise history\n",
    "- Track progression of specific lifts (e.g. Bench Press, Deadlift)\n",
    "- Analyze weekly training volume per muscle group\n",
    "- Examine correlations between training variables\n",
    "- Prepare data for future modeling (e.g. predicting strength or body changes)\n",
    "\n",
    "---\n"
   ]
  },
  {
   "cell_type": "code",
   "execution_count": 36,
   "id": "aa8d9dfa",
   "metadata": {},
   "outputs": [],
   "source": [
    "# ─── Cell 1: make sure Python can see the project root ────────────────────────\n",
    "import sys, os\n",
    "project_root = os.path.abspath(os.path.join(os.getcwd(), \"..\"))\n",
    "if project_root not in sys.path:\n",
    "    sys.path.insert(0, project_root)\n",
    "\n",
    "\n"
   ]
  },
  {
   "cell_type": "code",
   "execution_count": 35,
   "id": "ac5642d3",
   "metadata": {},
   "outputs": [
    {
     "name": "stdout",
     "output_type": "stream",
     "text": [
      "✅ Database schema created.\n"
     ]
    },
    {
     "ename": "FileNotFoundError",
     "evalue": "[Errno 2] No such file or directory: 'sample_data.json'",
     "output_type": "error",
     "traceback": [
      "\u001b[31m---------------------------------------------------------------------------\u001b[39m",
      "\u001b[31mFileNotFoundError\u001b[39m                         Traceback (most recent call last)",
      "\u001b[36mFile \u001b[39m\u001b[32m~\\Documents\\book_manager\\main.py:50\u001b[39m\n\u001b[32m     47\u001b[39m         \u001b[38;5;28mprint\u001b[39m(\u001b[33mf\u001b[39m\u001b[33m\"\u001b[39m\u001b[33m✅ User \u001b[39m\u001b[38;5;132;01m{\u001b[39;00margs.user\u001b[38;5;132;01m}\u001b[39;00m\u001b[33m data exported to \u001b[39m\u001b[38;5;132;01m{\u001b[39;00margs.export_csv\u001b[38;5;132;01m}\u001b[39;00m\u001b[33m\"\u001b[39m)\n\u001b[32m     49\u001b[39m \u001b[38;5;28;01mif\u001b[39;00m \u001b[34m__name__\u001b[39m == \u001b[33m\"\u001b[39m\u001b[33m__main__\u001b[39m\u001b[33m\"\u001b[39m:\n\u001b[32m---> \u001b[39m\u001b[32m50\u001b[39m     \u001b[43mmain\u001b[49m\u001b[43m(\u001b[49m\u001b[43m)\u001b[49m\n",
      "\u001b[36mFile \u001b[39m\u001b[32m~\\Documents\\book_manager\\main.py:38\u001b[39m, in \u001b[36mmain\u001b[39m\u001b[34m()\u001b[39m\n\u001b[32m     35\u001b[39m     \u001b[38;5;28mprint\u001b[39m(\u001b[33m\"\u001b[39m\u001b[33m✅ Database schema created.\u001b[39m\u001b[33m\"\u001b[39m)\n\u001b[32m     37\u001b[39m \u001b[38;5;28;01mif\u001b[39;00m args.load:\n\u001b[32m---> \u001b[39m\u001b[32m38\u001b[39m     \u001b[43mload_data\u001b[49m\u001b[43m(\u001b[49m\u001b[43margs\u001b[49m\u001b[43m.\u001b[49m\u001b[43mload\u001b[49m\u001b[43m)\u001b[49m\n\u001b[32m     39\u001b[39m     \u001b[38;5;28mprint\u001b[39m(\u001b[33mf\u001b[39m\u001b[33m\"\u001b[39m\u001b[33m✅ Data loaded from \u001b[39m\u001b[38;5;132;01m{\u001b[39;00margs.load\u001b[38;5;132;01m}\u001b[39;00m\u001b[33m\"\u001b[39m)\n\u001b[32m     41\u001b[39m \u001b[38;5;28;01mif\u001b[39;00m args.export_csv:\n",
      "\u001b[36mFile \u001b[39m\u001b[32m~\\Documents\\book_manager\\data_loader.py:8\u001b[39m, in \u001b[36mload_data\u001b[39m\u001b[34m(file_path)\u001b[39m\n\u001b[32m      6\u001b[39m \u001b[38;5;28;01mdef\u001b[39;00m\u001b[38;5;250m \u001b[39m\u001b[34mload_data\u001b[39m(file_path):\n\u001b[32m      7\u001b[39m     \u001b[38;5;66;03m# Wczytaj dane z pliku JSON\u001b[39;00m\n\u001b[32m----> \u001b[39m\u001b[32m8\u001b[39m     \u001b[38;5;28;01mwith\u001b[39;00m \u001b[38;5;28;43mopen\u001b[39;49m\u001b[43m(\u001b[49m\u001b[43mfile_path\u001b[49m\u001b[43m,\u001b[49m\u001b[43m \u001b[49m\u001b[33;43m'\u001b[39;49m\u001b[33;43mr\u001b[39;49m\u001b[33;43m'\u001b[39;49m\u001b[43m)\u001b[49m \u001b[38;5;28;01mas\u001b[39;00m f:\n\u001b[32m      9\u001b[39m         users_records = json.load(f)  \u001b[38;5;66;03m# lista użytkowników z sesjami\u001b[39;00m\n\u001b[32m     11\u001b[39m     \u001b[38;5;28;01mfor\u001b[39;00m user_record \u001b[38;5;129;01min\u001b[39;00m users_records:\n",
      "\u001b[31mFileNotFoundError\u001b[39m: [Errno 2] No such file or directory: 'sample_data.json'"
     ]
    }
   ],
   "source": [
    "# ─── Cell 2: run your main.py to init the DB and load data ───────────────────\n",
    "# note: you only need to do this once (then comment it out)\n",
    "get_ipython().run_line_magic('run', '../main.py --init --load sample_data.json')"
   ]
  },
  {
   "cell_type": "code",
   "execution_count": 38,
   "id": "e67362c1",
   "metadata": {},
   "outputs": [
    {
     "data": {
      "text/html": [
       "<div>\n",
       "<style scoped>\n",
       "    .dataframe tbody tr th:only-of-type {\n",
       "        vertical-align: middle;\n",
       "    }\n",
       "\n",
       "    .dataframe tbody tr th {\n",
       "        vertical-align: top;\n",
       "    }\n",
       "\n",
       "    .dataframe thead th {\n",
       "        text-align: right;\n",
       "    }\n",
       "</style>\n",
       "<table border=\"1\" class=\"dataframe\">\n",
       "  <thead>\n",
       "    <tr style=\"text-align: right;\">\n",
       "      <th></th>\n",
       "      <th>session_id</th>\n",
       "      <th>training_day</th>\n",
       "      <th>date</th>\n",
       "      <th>body_weight</th>\n",
       "      <th>mood</th>\n",
       "      <th>dchest</th>\n",
       "      <th>arms</th>\n",
       "      <th>waist</th>\n",
       "      <th>legs</th>\n",
       "      <th>shoulders</th>\n",
       "      <th>training_duration_minutes</th>\n",
       "      <th>sleep_hours</th>\n",
       "      <th>stress_level</th>\n",
       "      <th>program_phase</th>\n",
       "      <th>exercise</th>\n",
       "      <th>muscle_group</th>\n",
       "      <th>weight</th>\n",
       "      <th>reps</th>\n",
       "      <th>volume</th>\n",
       "    </tr>\n",
       "  </thead>\n",
       "  <tbody>\n",
       "  </tbody>\n",
       "</table>\n",
       "</div>"
      ],
      "text/plain": [
       "Empty DataFrame\n",
       "Columns: [session_id, training_day, date, body_weight, mood, dchest, arms, waist, legs, shoulders, training_duration_minutes, sleep_hours, stress_level, program_phase, exercise, muscle_group, weight, reps, volume]\n",
       "Index: []"
      ]
     },
     "execution_count": 38,
     "metadata": {},
     "output_type": "execute_result"
    }
   ],
   "source": [
    "from analysis.dataframe_builder import build_user_dataframe\n",
    "df = build_user_dataframe(user_id=1)\n",
    "df\n"
   ]
  }
 ],
 "metadata": {
  "kernelspec": {
   "display_name": "Python (.venv mlfs)",
   "language": "python",
   "name": "mlfs_venv"
  },
  "language_info": {
   "codemirror_mode": {
    "name": "ipython",
    "version": 3
   },
   "file_extension": ".py",
   "mimetype": "text/x-python",
   "name": "python",
   "nbconvert_exporter": "python",
   "pygments_lexer": "ipython3",
   "version": "3.13.1"
  }
 },
 "nbformat": 4,
 "nbformat_minor": 5
}
